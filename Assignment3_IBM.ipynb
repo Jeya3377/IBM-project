{
  "cells": [
    {
      "cell_type": "markdown",
      "metadata": {
        "id": "view-in-github",
        "colab_type": "text"
      },
      "source": [
        "<a href=\"https://colab.research.google.com/github/Jeya3377/IBM-project/blob/main/Assignment3_IBM.ipynb\" target=\"_parent\"><img src=\"https://colab.research.google.com/assets/colab-badge.svg\" alt=\"Open In Colab\"/></a>"
      ]
    },
    {
      "cell_type": "code",
      "execution_count": 4,
      "metadata": {
        "id": "CrIwnfevFH3B"
      },
      "outputs": [],
      "source": [
        "#Import necessary libraries\n",
        "from tensorflow.keras.models import Sequential\n",
        "from tensorflow.keras.layers import Dense\n",
        "from tensorflow.keras.layers import Convolution2D\n",
        "from tensorflow.keras.layers import MaxPooling2D\n",
        "from tensorflow.keras.layers import Flatten"
      ]
    },
    {
      "cell_type": "code",
      "source": [
        "from google.colab import drive\n",
        "drive.mount('/content/drive')"
      ],
      "metadata": {
        "id": "Zhopzs5uHc_U",
        "colab": {
          "base_uri": "https://localhost:8080/"
        },
        "outputId": "642e8635-82b3-4778-cb56-a3ad89ea92fe"
      },
      "execution_count": 3,
      "outputs": [
        {
          "output_type": "stream",
          "name": "stdout",
          "text": [
            "Mounted at /content/drive\n"
          ]
        }
      ]
    },
    {
      "cell_type": "code",
      "execution_count": 5,
      "metadata": {
        "id": "-eDuRn_bFH3F"
      },
      "outputs": [],
      "source": [
        "#Image augmentation\n",
        "from tensorflow.keras.preprocessing.image import ImageDataGenerator\n",
        "train_datagen = ImageDataGenerator(rescale=1./255,shear_range=0.2,zoom_range=0.2,horizontal_flip=True,vertical_flip=True)\n",
        "test_datagen = ImageDataGenerator(rescale=1./255)"
      ]
    },
    {
      "cell_type": "code",
      "execution_count": 6,
      "metadata": {
        "id": "0pL6OVjFFH3G",
        "outputId": "26f7010c-a7d1-4836-c81d-74885942da5a",
        "colab": {
          "base_uri": "https://localhost:8080/"
        }
      },
      "outputs": [
        {
          "output_type": "stream",
          "name": "stdout",
          "text": [
            "Found 3023 images belonging to 5 classes.\n",
            "Found 1326 images belonging to 5 classes.\n"
          ]
        },
        {
          "output_type": "execute_result",
          "data": {
            "text/plain": [
              "{'daisy': 0, 'dandelion': 1, 'rose': 2, 'sunflower': 3, 'tulip': 4}"
            ]
          },
          "metadata": {},
          "execution_count": 6
        }
      ],
      "source": [
        "x_train = train_datagen.flow_from_directory(r\"/content/drive/MyDrive/flowers/Training\",target_size=(128,128),batch_size=32,class_mode=\"categorical\")\n",
        "x_test = test_datagen.flow_from_directory(r\"/content/drive/MyDrive/flowers/Testing\",target_size=(128,128),batch_size=32,class_mode=\"categorical\")\n",
        "x_train.class_indices"
      ]
    },
    {
      "cell_type": "code",
      "execution_count": 7,
      "metadata": {
        "id": "lyWH5HssFH3H",
        "outputId": "7c689c5f-5309-444c-bc4d-2d3f2adc23f2",
        "colab": {
          "base_uri": "https://localhost:8080/"
        }
      },
      "outputs": [
        {
          "output_type": "stream",
          "name": "stdout",
          "text": [
            "Model: \"sequential\"\n",
            "_________________________________________________________________\n",
            " Layer (type)                Output Shape              Param #   \n",
            "=================================================================\n",
            " conv2d (Conv2D)             (None, 126, 126, 32)      896       \n",
            "                                                                 \n",
            " max_pooling2d (MaxPooling2D  (None, 63, 63, 32)       0         \n",
            " )                                                               \n",
            "                                                                 \n",
            " flatten (Flatten)           (None, 127008)            0         \n",
            "                                                                 \n",
            " dense (Dense)               (None, 300)               38102700  \n",
            "                                                                 \n",
            " dense_1 (Dense)             (None, 200)               60200     \n",
            "                                                                 \n",
            " dense_2 (Dense)             (None, 5)                 1005      \n",
            "                                                                 \n",
            "=================================================================\n",
            "Total params: 38,164,801\n",
            "Trainable params: 38,164,801\n",
            "Non-trainable params: 0\n",
            "_________________________________________________________________\n"
          ]
        }
      ],
      "source": [
        "model = Sequential()\n",
        "#Add layers\n",
        "#Convolution layer\n",
        "model.add(Convolution2D(32,(3,3),input_shape=(128,128,3),activation='relu'))\n",
        "#Maxpooling layer\n",
        "model.add(MaxPooling2D(pool_size=(2,2)))\n",
        "#flatten layer\n",
        "model.add(Flatten())\n",
        "#hidden layer\n",
        "model.add(Dense(units=300,kernel_initializer=\"random_uniform\",activation=\"relu\"))\n",
        "model.add(Dense(units=200,kernel_initializer=\"random_uniform\",activation=\"relu\"))\n",
        "model.add(Dense(units=5,kernel_initializer=\"random_uniform\",activation=\"softmax\"))\n",
        "model.summary()"
      ]
    },
    {
      "cell_type": "code",
      "execution_count": 9,
      "metadata": {
        "id": "obHMJf6vFH3I",
        "outputId": "7c1c9030-8a34-41f4-8897-7ee9f74a30f5",
        "colab": {
          "base_uri": "https://localhost:8080/"
        }
      },
      "outputs": [
        {
          "output_type": "stream",
          "name": "stderr",
          "text": [
            "/usr/local/lib/python3.7/dist-packages/ipykernel_launcher.py:4: UserWarning: `Model.fit_generator` is deprecated and will be removed in a future version. Please use `Model.fit`, which supports generators.\n",
            "  after removing the cwd from sys.path.\n"
          ]
        },
        {
          "output_type": "stream",
          "name": "stdout",
          "text": [
            "Epoch 1/15\n",
            "75/75 [==============================] - ETA: 0s - loss: 0.6384 - accuracy: 0.7667"
          ]
        },
        {
          "output_type": "stream",
          "name": "stderr",
          "text": [
            "WARNING:tensorflow:Your input ran out of data; interrupting training. Make sure that your dataset or generator can generate at least `steps_per_epoch * epochs` batches (in this case, 80 batches). You may need to use the repeat() function when building your dataset.\n"
          ]
        },
        {
          "output_type": "stream",
          "name": "stdout",
          "text": [
            "\b\b\b\b\b\b\b\b\b\b\b\b\b\b\b\b\b\b\b\b\b\b\b\b\b\b\b\b\b\b\b\b\b\b\b\b\b\b\b\b\b\b\b\b\b\b\b\b\b\b\b\b\b\b\b\b\b\b\b\b\b\b\b\b\b\b\b\b\b\b\b\b\b\b\b\b\b\b\b\b\b\b\r75/75 [==============================] - 50s 655ms/step - loss: 0.6384 - accuracy: 0.7667 - val_loss: 1.1798 - val_accuracy: 0.6169\n",
            "Epoch 2/15\n",
            "75/75 [==============================] - 36s 484ms/step - loss: 0.6148 - accuracy: 0.7679\n",
            "Epoch 3/15\n",
            "75/75 [==============================] - 36s 480ms/step - loss: 0.5826 - accuracy: 0.7793\n",
            "Epoch 4/15\n",
            "75/75 [==============================] - 36s 480ms/step - loss: 0.5455 - accuracy: 0.7944\n",
            "Epoch 5/15\n",
            "75/75 [==============================] - 35s 466ms/step - loss: 0.5434 - accuracy: 0.7986\n",
            "Epoch 6/15\n",
            "75/75 [==============================] - 36s 473ms/step - loss: 0.5884 - accuracy: 0.7952\n",
            "Epoch 7/15\n",
            "75/75 [==============================] - 35s 466ms/step - loss: 0.5410 - accuracy: 0.8015\n",
            "Epoch 8/15\n",
            "75/75 [==============================] - 35s 469ms/step - loss: 0.5044 - accuracy: 0.8082\n",
            "Epoch 9/15\n",
            "75/75 [==============================] - 36s 478ms/step - loss: 0.5257 - accuracy: 0.8032\n",
            "Epoch 10/15\n",
            "75/75 [==============================] - 36s 473ms/step - loss: 0.4749 - accuracy: 0.8187\n",
            "Epoch 11/15\n",
            "75/75 [==============================] - 36s 478ms/step - loss: 0.4996 - accuracy: 0.8163\n",
            "Epoch 12/15\n",
            "75/75 [==============================] - 36s 481ms/step - loss: 0.4588 - accuracy: 0.8250\n",
            "Epoch 13/15\n",
            "75/75 [==============================] - 36s 482ms/step - loss: 0.4483 - accuracy: 0.8410\n",
            "Epoch 14/15\n",
            "75/75 [==============================] - 36s 478ms/step - loss: 0.4264 - accuracy: 0.8384\n",
            "Epoch 15/15\n",
            "75/75 [==============================] - 39s 516ms/step - loss: 0.4099 - accuracy: 0.8548\n"
          ]
        },
        {
          "output_type": "execute_result",
          "data": {
            "text/plain": [
              "<keras.callbacks.History at 0x7fa71c114fd0>"
            ]
          },
          "metadata": {},
          "execution_count": 9
        }
      ],
      "source": [
        "#compile the model\n",
        "model.compile(loss=\"categorical_crossentropy\",optimizer=\"adam\",metrics=[\"accuracy\"])\n",
        "#Fit the model\n",
        "model.fit_generator(x_train,steps_per_epoch=75,epochs=15,validation_data=x_test,validation_steps=80)"
      ]
    },
    {
      "cell_type": "code",
      "execution_count": 10,
      "metadata": {
        "id": "SyamDUQXFH3I"
      },
      "outputs": [],
      "source": [
        "#Save the model\n",
        "model.save(\"flower.h5\")"
      ]
    },
    {
      "cell_type": "code",
      "execution_count": 12,
      "metadata": {
        "id": "YffQu9gdFH3J"
      },
      "outputs": [],
      "source": [
        "from tensorflow.keras.models import load_model\n",
        "from tensorflow.keras.preprocessing import image\n",
        "import numpy as np\n",
        "model = load_model(\"flower.h5\")"
      ]
    },
    {
      "cell_type": "code",
      "execution_count": 13,
      "metadata": {
        "id": "VoUu-es2FH3J",
        "outputId": "19c91c98-dba0-4c5c-f292-e4b1b53065f7",
        "colab": {
          "base_uri": "https://localhost:8080/"
        }
      },
      "outputs": [
        {
          "output_type": "execute_result",
          "data": {
            "text/plain": [
              "PIL.Image.Image"
            ]
          },
          "metadata": {},
          "execution_count": 13
        }
      ],
      "source": [
        "#Testing with the image\n",
        "img = image.load_img(r\"/content/drive/MyDrive/daisy.jpg\",target_size=(128,128))\n",
        "img\n",
        "type(img)"
      ]
    },
    {
      "cell_type": "code",
      "execution_count": 14,
      "metadata": {
        "id": "GLmWqmGWFH3L",
        "outputId": "468fa0b6-4e4e-4290-adaf-f345fb1d4a59",
        "colab": {
          "base_uri": "https://localhost:8080/"
        }
      },
      "outputs": [
        {
          "output_type": "execute_result",
          "data": {
            "text/plain": [
              "(1, 128, 128, 3)"
            ]
          },
          "metadata": {},
          "execution_count": 14
        }
      ],
      "source": [
        "x = image.img_to_array(img)\n",
        "x\n",
        "x.shape\n",
        "x = np.expand_dims(x,axis=0)\n",
        "x.shape"
      ]
    },
    {
      "cell_type": "code",
      "execution_count": 15,
      "metadata": {
        "id": "Vok0wfXsFH3M",
        "outputId": "0a3d772a-29fe-4f5f-ddce-027521f1d735",
        "colab": {
          "base_uri": "https://localhost:8080/"
        }
      },
      "outputs": [
        {
          "output_type": "execute_result",
          "data": {
            "text/plain": [
              "array([[1., 0., 0., 0., 0.]], dtype=float32)"
            ]
          },
          "metadata": {},
          "execution_count": 15
        }
      ],
      "source": [
        "pred_prob = model.predict(x)\n",
        "pred_prob"
      ]
    },
    {
      "cell_type": "code",
      "execution_count": 16,
      "metadata": {
        "id": "40c8WyvBFH3N"
      },
      "outputs": [],
      "source": [
        "class_name = [\"daisy\",\"dandelion\",\"rose\",\"sunfower\",\"tulip\"]"
      ]
    },
    {
      "cell_type": "code",
      "execution_count": 17,
      "metadata": {
        "id": "rvG0BWacFH3N",
        "outputId": "7da8f1a7-2d1e-4957-b591-829f0a248dbb",
        "colab": {
          "base_uri": "https://localhost:8080/"
        }
      },
      "outputs": [
        {
          "output_type": "stream",
          "name": "stdout",
          "text": [
            "Predicted flower is daisy\n"
          ]
        }
      ],
      "source": [
        "pred_id = pred_prob.argmax(axis=1)[0]\n",
        "pred_id\n",
        "print(\"Predicted flower is\",str(class_name[pred_id]))"
      ]
    },
    {
      "cell_type": "code",
      "execution_count": null,
      "metadata": {
        "id": "TW6kkP1BFH3O"
      },
      "outputs": [],
      "source": []
    }
  ],
  "metadata": {
    "kernelspec": {
      "display_name": "Python 3",
      "language": "python",
      "name": "python3"
    },
    "language_info": {
      "codemirror_mode": {
        "name": "ipython",
        "version": 3
      },
      "file_extension": ".py",
      "mimetype": "text/x-python",
      "name": "python",
      "nbconvert_exporter": "python",
      "pygments_lexer": "ipython3",
      "version": "3.7.3"
    },
    "colab": {
      "provenance": [],
      "include_colab_link": true
    }
  },
  "nbformat": 4,
  "nbformat_minor": 0
}